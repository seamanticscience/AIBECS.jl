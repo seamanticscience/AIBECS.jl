{
 "cells": [
  {
   "cell_type": "markdown",
   "metadata": {},
   "source": [
    "# A coupled PO₄–POP-DOP-dFe model\n",
    "\n",
    " We consider a simple model for the cycling of phosphorus with 2 state variables consisting of phosphate (PO₄) AKA dissolved inorganic phosphorus (DIP), particulate organic phosphorus (POP), and Dissolved Organic phosphorus (DOP).\n",
    " The dissolved phases are transported by advection and diffusion whereas the particulate phase sinks rapidly down the water column without any appreciable transport by the circulation.\n",
    "\n",
    " The governing equations that couple the 3D concentration fields of DIP, DOP, and POP, denoted $x_\\mathsf{DIP}$, $x_\\mathsf{DOP}$, and $x_\\mathsf{POP}$, respectively, are:\n",
    "\n",
    "$$\\left[\\frac{\\partial}{\\partial t} + \\nabla \\cdot (\\boldsymbol{u} + \\mathbf{K}\\nabla )\\right] x_\\mathsf{DIP} = -U(\\mathsf{min}(x_\\mathsf{DIP},x_\\mathsf{DFE})) + R_{\\mathsf{POP}}(x_\\mathsf{POP}) + R_{\\mathsf{DOP}}(x_\\mathsf{DOP}) ,$$\n",
    "\n",
    "$$\\left[\\frac{\\partial}{\\partial t} + \\nabla \\cdot (\\boldsymbol{u} + \\mathbf{K}\\nabla )\\right] x_\\mathsf{DOP} = \\lambda_{DOP}U(\\mathsf{min}(x_\\mathsf{DIP},x_\\mathsf{DFE})) - R_{\\mathsf{DOP}}(x_\\mathsf{DOP}),$$\n",
    "\n",
    "$$\\left[\\frac{\\partial}{\\partial t} + \\nabla \\cdot \\boldsymbol{w}\\right] x_\\mathsf{POP} = (1-\\lambda_{DOP})U(\\mathsf{min}(x_\\mathsf{DIP},x_\\mathsf{DFE})) - R_{\\mathsf{POP}}(x_\\mathsf{POP}),$$\n",
    "\n",
    "$$\\left[\\frac{\\partial}{\\partial t} + \\nabla \\cdot (\\boldsymbol{u} + \\mathbf{K}\\nabla )\\right] x_\\mathsf{DFE} = S_{\\mathsf{Fe}} -R_{\\mathsf{Fe:P}}U(\\mathsf{min}(x_\\mathsf{DIP},x_\\mathsf{DFE})) + R_{\\mathsf{Fe:P}}R_{\\mathsf{POP}}(x_\\mathsf{POP}) + R_{\\mathsf{Fe:P}}R_{\\mathsf{DOP}}(x_\\mathsf{DOP})- S_\\mathsf{Scav},$$\n",
    "\n",
    " The $\\nabla \\cdot \\left[ \\boldsymbol{u} - \\mathbf{K} \\nabla \\right]$ and $\\nabla \\cdot \\boldsymbol{w}$ operators represent the ocean circulation and the sinking of particles, respectively.\n",
    " ([Tracer transport operators are described in the documentation](@ref tracer-transport-operators).)\n",
    "\n",
    " The function $U$ represents the biological uptake of DIP by phytoplankton, which we model here as\n",
    "\n",
    " $$U(x_\\mathsf{DIP}) = \\frac{x_\\mathsf{DIP}}{\\tau_\\mathsf{DIP}} \\, \\mathsf{min}\\left(\\frac{x_\\mathsf{DIP}}{x_\\mathsf{DIP} + k_{\\mathsf{DIP}}},\\frac{x_\\mathsf{DFE}}{x_\\mathsf{DFE} + k_{\\mathsf{Fe}}}\\right) \\, (z < z_0),$$\n",
    "\n",
    " with the timescale, $\\tau$, the half-saturation rate $k$, and the depth $z_0$ as parameters. A fraction, $\\lambda_{DOP}$, of production is exuded as DOP, while the remainder forms sinking POP. \n",
    "\n",
    "The function $R_{POP}$ defines the remineralization rate of POP, which converts POP back into DIP.\n",
    " For the remineralization, we simply use a linear rate constant, i.e.,\n",
    "\n",
    " $$R(x_\\mathsf{POP}) = \\frac{x_\\mathsf{POP}}{\\tau_\\mathsf{POP}}.$$\n",
    "\n",
    "The function $R_{DOP}$ defines the remineralization rate of DOP, which converts DOP back into DIP.\n",
    " For the remineralization, we simply use a linear rate constant, i.e.,\n",
    "\n",
    " $$R(x_\\mathsf{DOP}) = \\frac{x_\\mathsf{DOP}}{\\tau_\\mathsf{DOP}}.$$\n",
    "\n",
    " We start by telling Julia we want to use the AIBECS and the OCIM2 circulation."
   ]
  },
  {
   "cell_type": "code",
   "execution_count": 1,
   "metadata": {},
   "outputs": [
    {
     "name": "stderr",
     "output_type": "stream",
     "text": [
      "┌ Info: You are about to use the OCIM2_CTL_He model.\n",
      "│ If you use it for research, please cite:\n",
      "│ \n",
      "│ - DeVries, T., & Holzer, M. (2019). Radiocarbon and helium isotope constraints on deep ocean ventilation and mantle‐³He sources. Journal of Geophysical Research: Oceans, 124, 3036–3057. https://doi.org/10.1029/2018JC014716\n",
      "│ \n",
      "│ You can find the corresponding BibTeX entries in the CITATION.bib file\n",
      "│ at the root of the AIBECS.jl package repository.\n",
      "│ (Look for the \"DeVries_Holzer_2019\" key.)\n",
      "└ @ AIBECS.OCIM2 /Users/jonyo/.julia/packages/AIBECS/gQVAA/src/OCIM2.jl:113\n"
     ]
    },
    {
     "data": {
      "text/plain": [
       "T_DFE (generic function with 1 method)"
      ]
     },
     "execution_count": 1,
     "metadata": {},
     "output_type": "execute_result"
    }
   ],
   "source": [
    "using AIBECS\n",
    "grd, T_OCIM = OCIM2.load()\n",
    "T_DIP(p) = T_OCIM\n",
    "T_DOP(p) = T_OCIM\n",
    "T_DFE(p) = T_OCIM"
   ]
  },
  {
   "cell_type": "markdown",
   "metadata": {},
   "source": [
    "For the sinking of particles, we use the `transportoperator` function"
   ]
  },
  {
   "cell_type": "code",
   "execution_count": 2,
   "metadata": {},
   "outputs": [
    {
     "data": {
      "text/plain": [
       "T_POP (generic function with 1 method)"
      ]
     },
     "execution_count": 2,
     "metadata": {},
     "output_type": "execute_result"
    }
   ],
   "source": [
    "T_POP(p) = transportoperator(grd, z -> w(z,p))"
   ]
  },
  {
   "cell_type": "markdown",
   "metadata": {},
   "source": [
    " for which we need to define the sinking speed `w(z,p)` as a function of depth `z` and of the parameters `p`.\n",
    " Following the assumption that $w(z) = w_0 + w' z$ increases linearly with depth, we write it as"
   ]
  },
  {
   "cell_type": "code",
   "execution_count": 3,
   "metadata": {},
   "outputs": [
    {
     "data": {
      "text/plain": [
       "w (generic function with 1 method)"
      ]
     },
     "execution_count": 3,
     "metadata": {},
     "output_type": "execute_result"
    }
   ],
   "source": [
    "function w(z,p)\n",
    "    @unpack w₀, w′ = p\n",
    "    return @. w₀ + w′ * z\n",
    "end"
   ]
  },
  {
   "cell_type": "markdown",
   "metadata": {},
   "source": [
    " #### Source of iron from dust"
   ]
  },
  {
   "cell_type": "code",
   "execution_count": 4,
   "metadata": {},
   "outputs": [
    {
     "name": "stderr",
     "output_type": "stream",
     "text": [
      "┌ Info: You are about to use the Chien et al. (2016) data for aeolian deposition.\n",
      "│ If you use it for research, please cite:\n",
      "│ \n",
      "│ - Chien, C.-T., K. R. M. Mackey, S. Dutkiewicz, N. M. Mahowald, J. M. Prospero, and A. Paytan (2016), Effects of African dust deposition on phytoplankton in the western tropical Atlantic Ocean off Barbados, Global Biogeochem. Cycles, 30, doi:10.1002/2015GB005334.\n",
      "│ \n",
      "│ You can find the corresponding BibTeX entries in the CITATION.bib file\n",
      "│ at the root of the AIBECS.jl package repository.\n",
      "│ (Look for the \"Chien_etal_2016\" key.)\n",
      "└ @ AIBECS.AeolianSources /Users/jonyo/.julia/packages/AIBECS/gQVAA/src/aeolian_sources.jl:66\n"
     ]
    },
    {
     "data": {
      "text/plain": [
       "Sfe (generic function with 1 method)"
      ]
     },
     "execution_count": 4,
     "metadata": {},
     "output_type": "execute_result"
    }
   ],
   "source": [
    "s_A_2D = AeolianSources.load()\n",
    "s_dust_2D_monthly = s_A_2D[:Dust] # kg m⁻² s⁻¹\n",
    "s_dust_2D_annual = permutedims(dropdims(sum(s_dust_2D_monthly, dims=3), dims=3), (2,1)) / 12\n",
    "s_dust_2D = regrid(s_dust_2D_annual, s_A_2D[:lat], s_A_2D[:lon], grd)\n",
    "s_dust_3D = zeros(size(grd)...)\n",
    "s_dust_3D[:,:,1] .= s_dust_2D\n",
    "s_dust_3D = ustrip.(upreferred.(s_dust_3D * u\"kg/m^2/s\" ./ grd.δz_3D))\n",
    "s_dust = vectorize(s_dust_3D, grd) # which is the same as `s_dust_3D[iswet(grd)]`\n",
    "\n",
    "# Convert dust to mol iron input\n",
    "Sfe(x, p) = ustrip.((s_dust * u\"kg/m^3/s\" .|> u\"g/m^3/s\") .* (0.035 * Unitful.NoUnits) .* (1.0/58.0) * u\"mol/g\")"
   ]
  },
  {
   "cell_type": "markdown",
   "metadata": {},
   "source": [
    "#### Sink of iron due to scavenging"
   ]
  },
  {
   "cell_type": "code",
   "execution_count": 5,
   "metadata": {},
   "outputs": [
    {
     "data": {
      "text/plain": [
       "Scav (generic function with 1 method)"
      ]
     },
     "execution_count": 5,
     "metadata": {},
     "output_type": "execute_result"
    }
   ],
   "source": [
    "function Scav(DFE, p)\n",
    "    @unpack τfescav, τdfe, D̅F̅E̅ = p\n",
    "    return @. (DFE/τfescav) + (D̅F̅E̅≤DFE) * ((D̅F̅E̅ - DFE) / τdfe)\n",
    "end"
   ]
  },
  {
   "cell_type": "markdown",
   "metadata": {},
   "source": [
    " #### Uptake of DIP\n",
    " For the uptake, $U$, we write"
   ]
  },
  {
   "cell_type": "code",
   "execution_count": 6,
   "metadata": {},
   "outputs": [
    {
     "data": {
      "text/plain": [
       "U (generic function with 1 method)"
      ]
     },
     "execution_count": 6,
     "metadata": {},
     "output_type": "execute_result"
    }
   ],
   "source": [
    "z = depthvec(grd)\n",
    "function U(DIP, DOP, POP, DFE, p)\n",
    "    @unpack τBP, kDIP, kFE, z₀ = p\n",
    "    return @. 1.0/τBP * $min(DIP/(DIP+kDIP),DFE/(DFE+kFE)) * (z≤z₀) * (DIP≥0) * (DFE≥0)\n",
    "end"
   ]
  },
  {
   "cell_type": "markdown",
   "metadata": {},
   "source": [
    "where we have \"unpacked\" the parameters to make the code clearer and as close to the mathematical equation as possible.\n",
    "(Note we have also added a constraint that `x` must be positive for uptake to happen.)\n",
    "\n",
    "##### Remineralization "
   ]
  },
  {
   "cell_type": "code",
   "execution_count": 7,
   "metadata": {},
   "outputs": [
    {
     "data": {
      "text/plain": [
       "RDOP (generic function with 1 method)"
      ]
     },
     "execution_count": 7,
     "metadata": {},
     "output_type": "execute_result"
    }
   ],
   "source": [
    "function RPOP(x,p)\n",
    "    @unpack τPOP = p\n",
    "    return x / τPOP\n",
    "end\n",
    "\n",
    "function RDOP(x,p)\n",
    "    @unpack τDOP = p\n",
    "    return x / τDOP\n",
    "end"
   ]
  },
  {
   "cell_type": "markdown",
   "metadata": {},
   "source": [
    "##### Net sources and sinks\n",
    "\n",
    "We lump the sources and sinks into `G` functions for DIP, DOP, and POP."
   ]
  },
  {
   "cell_type": "code",
   "execution_count": 8,
   "metadata": {},
   "outputs": [
    {
     "data": {
      "text/plain": [
       "G_DFE (generic function with 1 method)"
      ]
     },
     "execution_count": 8,
     "metadata": {},
     "output_type": "execute_result"
    }
   ],
   "source": [
    "function G_DIP(DIP, DOP, POP, DFE, p)\n",
    "    @unpack D̅I̅P̅, τpo4 = p\n",
    "    return @. -$U(DIP, DOP, POP, DFE, p) + $RDOP(DOP,p) + $RPOP(POP,p) + (D̅I̅P̅ - DIP) / τpo4\n",
    "end\n",
    "\n",
    "function G_DOP(DIP, DOP, POP, DFE, p)\n",
    "    @unpack λDOP = p\n",
    "    return @. $U(DIP, DOP, POP, DFE, p) * λDOP - $RDOP(DOP,p)\n",
    "end\n",
    "\n",
    "function G_POP(DIP, DOP, POP, DFE, p)\n",
    "    @unpack λDOP = p\n",
    "    return @. $U(DIP, DOP, POP, DFE, p) * (1.0-λDOP) - $RPOP(POP,p)\n",
    "end\n",
    "\n",
    "function G_DFE(DIP, DOP, POP, DFE, p)\n",
    "    @unpack Rfep = p\n",
    "    return @. $Sfe(DFE, p) + $RDOP(DOP,p)*Rfep + $RPOP(POP,p)*Rfep - $U(DIP, DOP, POP, DFE, p)*Rfep - $Scav(DFE, p)\n",
    "end"
   ]
  },
  {
   "cell_type": "markdown",
   "metadata": {},
   "source": [
    "where we have imposed a slow restoring of DIP to the global mean `D̅I̅P̅` to prescribe the global mean concentration.\n",
    "(The `$` signs in front of `U` and `R` protect them from the broadcast macro `@.`)\n",
    "\n",
    "We now define and build the parameters.\n",
    "\n",
    "In this tutorial we will specify some initial values for the parameters\n",
    "and also include units."
   ]
  },
  {
   "cell_type": "code",
   "execution_count": 9,
   "metadata": {},
   "outputs": [
    {
     "data": {
      "text/plain": [
       "initial_value (generic function with 24 methods)"
      ]
     },
     "execution_count": 9,
     "metadata": {},
     "output_type": "execute_result"
    }
   ],
   "source": [
    "import AIBECS: @units, units\n",
    "import AIBECS: @initial_value, initial_value\n",
    "@initial_value @units struct PmodelParameters{U} <: AbstractParameters{U}\n",
    "    w₀::U      |  0.64 | u\"m/d\"\n",
    "    w′::U      |  0.13 | u\"m/d/m\"\n",
    "    τBP::U     | 230.0 | u\"d\"\n",
    "    kDIP::U    |  6.62 | u\"μmol/m^3\"\n",
    "    kFE::U     |  0.1  | u\"nmol/m^3\"\n",
    "    z₀::U      |  80.0 | u\"m\"\n",
    "    τPOP::U    |   5.0 | u\"d\"\n",
    "    τDOP::U    | 180.0 | u\"d\"    \n",
    "    τpo4::U    |   1.0 | u\"Myr\"\n",
    "    D̅I̅P̅::U     |  2.12 | u\"mmol/m^3\"\n",
    "    λDOP::U    |  0.67 | Unitful.NoUnits\n",
    "    Rfep::U    |  1e-3 | u\"mol/mol\"\n",
    "    D̅F̅E̅::U     |  1.2  | u\"mol/m^3\"\n",
    "    τdfe::U    |  1.0  | u\"d\"\n",
    "    τfescav::U | 120.0 | u\"d\"\n",
    "end"
   ]
  },
  {
   "cell_type": "markdown",
   "metadata": {},
   "source": [
    "Finally, thanks to the initial values we provided, we can instantiate the parameter vector succintly as"
   ]
  },
  {
   "cell_type": "code",
   "execution_count": 10,
   "metadata": {},
   "outputs": [
    {
     "name": "stdout",
     "output_type": "stream",
     "text": [
      "  0.609058 seconds (932.18 k allocations: 49.223 MiB, 4.25% gc time)\n"
     ]
    },
    {
     "data": {
      "text/plain": [
       "\n",
       "│ Row │ Symbol  │ Value   │ Initial value │ Unit     │\n",
       "│     │ \u001b[90mSymbol\u001b[39m  │ \u001b[90mFloat64\u001b[39m │ \u001b[90mFloat64\u001b[39m       │ \u001b[90mUnitful…\u001b[39m │\n",
       "├─────┼─────────┼─────────┼───────────────┼──────────┤\n",
       "│ 1   │ w₀      │ 0.64    │ 0.64          │ m d⁻¹    │\n",
       "│ 2   │ w′      │ 0.13    │ 0.13          │ d⁻¹      │\n",
       "│ 3   │ τBP     │ 230.0   │ 230.0         │ d        │\n",
       "│ 4   │ kDIP    │ 6.62    │ 6.62          │ μmol m⁻³ │\n",
       "│ 5   │ kFE     │ 0.1     │ 0.1           │ nmol m⁻³ │\n",
       "│ 6   │ z₀      │ 80.0    │ 80.0          │ m        │\n",
       "│ 7   │ τPOP    │ 5.0     │ 5.0           │ d        │\n",
       "│ 8   │ τDOP    │ 180.0   │ 180.0         │ d        │\n",
       "│ 9   │ τpo4    │ 1.0     │ 1.0           │ Myr      │\n",
       "│ 10  │ D̅I̅P̅     │ 2.12    │ 2.12          │ mmol m⁻³ │\n",
       "│ 11  │ λDOP    │ 0.67    │ 0.67          │          │\n",
       "│ 12  │ Rfep    │ 0.001   │ 0.001         │          │\n",
       "│ 13  │ D̅F̅E̅     │ 1.2     │ 1.2           │ mol m⁻³  │\n",
       "│ 14  │ τdfe    │ 1.0     │ 1.0           │ d        │\n",
       "│ 15  │ τfescav │ 120.0   │ 120.0         │ d        │"
      ]
     },
     "execution_count": 10,
     "metadata": {},
     "output_type": "execute_result"
    },
    {
     "name": "stdout",
     "output_type": "stream",
     "text": [
      "PmodelParameters{Float64}"
     ]
    }
   ],
   "source": [
    "@time p = PmodelParameters()"
   ]
  },
  {
   "cell_type": "markdown",
   "metadata": {},
   "source": [
    "We generate the state function `F` and its Jacobian `∇ₓF`,"
   ]
  },
  {
   "cell_type": "code",
   "execution_count": 11,
   "metadata": {},
   "outputs": [
    {
     "data": {
      "text/plain": [
       "(AIBECS.var\"#F#31\"{Tuple{typeof(T_DIP),typeof(T_DOP),typeof(T_POP),typeof(T_DFE)},AIBECS.var\"#tracer#26\"{Int64,Int64},AIBECS.var\"#G#29\"{Tuple{typeof(G_DIP),typeof(G_DOP),typeof(G_POP),typeof(G_DFE)},AIBECS.var\"#tracers#25\"{Int64,Int64}}}((T_DIP, T_DOP, T_POP, T_DFE), AIBECS.var\"#tracer#26\"{Int64,Int64}(200160, 4), AIBECS.var\"#G#29\"{Tuple{typeof(G_DIP),typeof(G_DOP),typeof(G_POP),typeof(G_DFE)},AIBECS.var\"#tracers#25\"{Int64,Int64}}((G_DIP, G_DOP, G_POP, G_DFE), AIBECS.var\"#tracers#25\"{Int64,Int64}(200160, 4))), AIBECS.var\"#∇ₓF#34\"{AIBECS.var\"#T#27\"{Tuple{typeof(T_DIP),typeof(T_DOP),typeof(T_POP),typeof(T_DFE)}},AIBECS.var\"#∇ₓG#33\"{Tuple{typeof(G_DIP),typeof(G_DOP),typeof(G_POP),typeof(G_DFE)},Int64,Int64}}(AIBECS.var\"#T#27\"{Tuple{typeof(T_DIP),typeof(T_DOP),typeof(T_POP),typeof(T_DFE)}}((T_DIP, T_DOP, T_POP, T_DFE)), AIBECS.var\"#∇ₓG#33\"{Tuple{typeof(G_DIP),typeof(G_DOP),typeof(G_POP),typeof(G_DFE)},Int64,Int64}((G_DIP, G_DOP, G_POP, G_DFE), 200160, 4)))"
      ]
     },
     "execution_count": 11,
     "metadata": {},
     "output_type": "execute_result"
    }
   ],
   "source": [
    "nb = sum(iswet(grd))\n",
    "F, ∇ₓF = state_function_and_Jacobian((T_DIP, T_DOP, T_POP, T_DFE), (G_DIP, G_DOP, G_POP, G_DFE), nb)"
   ]
  },
  {
   "cell_type": "markdown",
   "metadata": {},
   "source": [
    "generate the steady-state problem,"
   ]
  },
  {
   "cell_type": "code",
   "execution_count": 12,
   "metadata": {},
   "outputs": [
    {
     "data": {
      "text/plain": [
       "SteadyStateProblem with uType Array{Float64,1}\n",
       "u0: [0.0021200000000000004, 0.0021200000000000004, 0.0021200000000000004, 0.0021200000000000004, 0.0021200000000000004, 0.0021200000000000004, 0.0021200000000000004, 0.0021200000000000004, 0.0021200000000000004, 0.0021200000000000004  …  0.0, 0.0, 0.0, 0.0, 0.0, 0.0, 0.0, 0.0, 0.0, 0.0]"
      ]
     },
     "execution_count": 12,
     "metadata": {},
     "output_type": "execute_result"
    }
   ],
   "source": [
    "@unpack D̅I̅P̅ = p\n",
    "x = [D̅I̅P̅ * ones(nb); zeros(3nb)] # initial guess\n",
    "prob = SteadyStateProblem(F, ∇ₓF, x, p)"
   ]
  },
  {
   "cell_type": "markdown",
   "metadata": {},
   "source": [
    "and solve it"
   ]
  },
  {
   "cell_type": "code",
   "execution_count": null,
   "metadata": {},
   "outputs": [],
   "source": [
    "@time s = solve(prob, CTKAlg()).u"
   ]
  },
  {
   "cell_type": "markdown",
   "metadata": {},
   "source": [
    "We can look at different the DIP, DOP, and POP fields using the Plots.jl recipes."
   ]
  },
  {
   "cell_type": "code",
   "execution_count": null,
   "metadata": {},
   "outputs": [],
   "source": [
    "DIP, DOP, POP, DFE = state_to_tracers(s, grd) # unpack tracers"
   ]
  },
  {
   "cell_type": "markdown",
   "metadata": {},
   "source": [
    " First, let's look at the mean profile"
   ]
  },
  {
   "cell_type": "code",
   "execution_count": null,
   "metadata": {},
   "outputs": [],
   "source": [
    "using Plots\n",
    "plothorizontalmean(DIP * u\"mol/m^3\" .|> u\"μM\", grd)"
   ]
  },
  {
   "cell_type": "markdown",
   "metadata": {},
   "source": [
    "We can plot the concentration of DIP at a given depth via, e.g.,"
   ]
  },
  {
   "cell_type": "code",
   "execution_count": null,
   "metadata": {},
   "outputs": [],
   "source": [
    "plothorizontalslice(DIP * u\"mol/m^3\" .|> u\"μM\", grd, depth=10u\"m\", color=:viridis)"
   ]
  },
  {
   "cell_type": "code",
   "execution_count": null,
   "metadata": {},
   "outputs": [],
   "source": [
    "plothorizontalslice(DOP * u\"mol/m^3\" .|> u\"μM\", grd, depth=10u\"m\", color=:viridis)"
   ]
  },
  {
   "cell_type": "markdown",
   "metadata": {},
   "source": [
    "Or have a look at a map of the uptake at the surface"
   ]
  },
  {
   "cell_type": "code",
   "execution_count": null,
   "metadata": {},
   "outputs": [],
   "source": [
    "plotverticalintegral(U(DIP,p) * u\"mol/m^3/s\" .|> u\"mmol/yr/m^3\", grd, color=:algae)"
   ]
  },
  {
   "cell_type": "markdown",
   "metadata": {},
   "source": [
    "Or look at what is exported below 500 m"
   ]
  },
  {
   "cell_type": "code",
   "execution_count": null,
   "metadata": {},
   "outputs": [],
   "source": [
    "plothorizontalslice(POP .* w(z,p) * u\"mol/m^3*m/s\" .|> u\"mmol/yr/m^2\", grd, depth=500u\"m\", color=:inferno, rev=true)"
   ]
  },
  {
   "cell_type": "code",
   "execution_count": null,
   "metadata": {},
   "outputs": [],
   "source": []
  }
 ],
 "metadata": {
  "kernelspec": {
   "display_name": "Julia 1.3.1",
   "language": "julia",
   "name": "julia-1.3"
  },
  "language_info": {
   "file_extension": ".jl",
   "mimetype": "application/julia",
   "name": "julia",
   "version": "1.3.1"
  }
 },
 "nbformat": 4,
 "nbformat_minor": 4
}
